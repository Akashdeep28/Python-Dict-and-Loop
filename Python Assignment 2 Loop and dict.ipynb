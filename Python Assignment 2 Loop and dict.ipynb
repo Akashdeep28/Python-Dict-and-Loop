{
 "cells": [
  {
   "cell_type": "markdown",
   "id": "af6ca131",
   "metadata": {},
   "source": [
    "### In this exercise you will create a program that computes the average of a collection of values entered by the user. The user will enter 0 as a sentinel value to indicate that no further values will be provided. Your program should display an appropriate error message if the first value entered by the user is 0."
   ]
  },
  {
   "cell_type": "code",
   "execution_count": 8,
   "id": "0da329bf",
   "metadata": {},
   "outputs": [
    {
     "name": "stdout",
     "output_type": "stream",
     "text": [
      "Enter first number:3\n",
      "Enter next number or 0 to exit:4\n",
      "Enter next number or 0 to exit:3\n",
      "Enter next number or 0 to exit:3\n",
      "Enter next number or 0 to exit:3\n",
      "Enter next number or 0 to exit:3\n",
      "Enter next number or 0 to exit:3\n",
      "Enter next number or 0 to exit:3\n",
      "Enter next number or 0 to exit:0\n",
      "your average is: 3.125\n"
     ]
    }
   ],
   "source": [
    "# Creating 2 variables to save initial values (SUM and Count)\n",
    "\n",
    "sum = 0\n",
    "count = 0\n",
    "\n",
    "num = int(input(\"Enter first number:\"))\n",
    "\n",
    "if num == 0:\n",
    "    print (\"Error 401: Please enter number other than zero as first number or else the program wont run\")\n",
    "else:\n",
    "    while num != 0:\n",
    "        sum += num\n",
    "        count += 1\n",
    "        num = int(input(\"Enter next number or 0 to exit:\"))\n",
    "        \n",
    "    average = sum / count\n",
    "    print (\"your average is:\", average)"
   ]
  },
  {
   "cell_type": "markdown",
   "id": "410aafb2",
   "metadata": {},
   "source": [
    "### A string is a palindrome if it is identical forward and backward. For example, “anna”, “civic”, “level” and “hannah” are all examples of palindromic words. Write a program that reads a string from the user and uses a loop to determines whether or not it is a palindrome. Display the result, including a meaningful output message."
   ]
  },
  {
   "cell_type": "code",
   "execution_count": 17,
   "id": "d8263a54",
   "metadata": {},
   "outputs": [
    {
     "name": "stdout",
     "output_type": "stream",
     "text": [
      "Enter a string: grns\n",
      "The input is not a palindrome.\n"
     ]
    }
   ],
   "source": [
    "def is_palindrome(s):\n",
    "\n",
    "# Compare the string to its reverse\n",
    "    return s == s[::-1]\n",
    "\n",
    "user_input = input(\"Enter a string: \")\n",
    "\n",
    "if is_palindrome(user_input):\n",
    "    print(\"The input is a palindrome.\")\n",
    "else:\n",
    "    print(\"The input is not a palindrome.\")"
   ]
  },
  {
   "cell_type": "markdown",
   "id": "f9d24046",
   "metadata": {},
   "source": [
    "### Write a program that converts a binary (base 2) number to decimal (base 10). Your program should begin by reading the binary number from the user as a string. Then it should compute the equivalent decimal number by processing each digit in the binary number. Finally, your program should display the equivalent decimal number with an appropriate message."
   ]
  },
  {
   "cell_type": "code",
   "execution_count": 22,
   "id": "45560369",
   "metadata": {},
   "outputs": [
    {
     "name": "stdout",
     "output_type": "stream",
     "text": [
      "Enter a binary number: 1011101\n",
      "The equivalent decimal number is: 93\n"
     ]
    }
   ],
   "source": [
    "binary_num = input(\"Enter a binary number: \")\n",
    "\n",
    "decimal_num = 0\n",
    "for i in range(len(binary_num)):\n",
    "    # Multiply the current digit by 2 raised to the power of its position\n",
    "    # and add it to the decimal number\n",
    "    decimal_num += int(binary_num[i]) * 2 ** (len(binary_num) - i - 1)\n",
    "\n",
    "print(\"The equivalent decimal number is:\", decimal_num)\n",
    "#### I found this code online but could'nt understood this, please explain in class"
   ]
  },
  {
   "cell_type": "markdown",
   "id": "b60dad71",
   "metadata": {},
   "source": [
    "### Create a program that determines and displays the number of unique characters in a string entered by the user. For example, Hello, World! has 10 unique characters while zzz has only one unique character. Use a dictionary or set to solve this problem."
   ]
  },
  {
   "cell_type": "code",
   "execution_count": 27,
   "id": "ebbbdf76",
   "metadata": {},
   "outputs": [
    {
     "name": "stdout",
     "output_type": "stream",
     "text": [
      "Enter a string: Hello, World! has 10 unique characters while zzz has only one unique character.\n",
      "The input string has 25 unique characters.\n"
     ]
    }
   ],
   "source": [
    "def countuni_char(inputstr):\n",
    "    unique_char = set(inputstr)\n",
    "    num_unique_char = len(unique_char)\n",
    "    print(\"The input string has\", num_unique_char, \"unique characters.\")\n",
    "\n",
    "enter = input(\"Enter a string: \")\n",
    "countuni_char(enter)"
   ]
  },
  {
   "cell_type": "code",
   "execution_count": 28,
   "id": "40016713",
   "metadata": {},
   "outputs": [
    {
     "name": "stdout",
     "output_type": "stream",
     "text": [
      "Enter a string: hello world how are you, is everything all write and zzz\n",
      "The input string has 19 unique characters.\n"
     ]
    }
   ],
   "source": [
    "def count_unique_characters(input_string):\n",
    "    char_count = {}\n",
    "    for char in input_string:\n",
    "        if char in char_count:\n",
    "            char_count[char] += 1\n",
    "        else:\n",
    "            char_count[char] = 1\n",
    "    num_unique_chars = len(char_count)\n",
    "    print(\"The input string has\", num_unique_chars, \"unique characters.\")\n",
    "\n",
    "input_str = input(\"Enter a string: \")\n",
    "count_unique_characters(input_str)"
   ]
  },
  {
   "cell_type": "markdown",
   "id": "f121112c",
   "metadata": {},
   "source": [
    "### In this exercise you will create a Python program that identifies the longest word(s) in a file. Your program should output an appropriate message that includes the length of the longest word, along with all of the words of that length that occurred in the file. Treat any group of non-white space characters as a word, even if it includes numbers or punctuation marks."
   ]
  },
  {
   "cell_type": "code",
   "execution_count": 29,
   "id": "33e64317",
   "metadata": {},
   "outputs": [],
   "source": [
    "#Please help on this, very tough :("
   ]
  },
  {
   "cell_type": "code",
   "execution_count": null,
   "id": "d1d4d38e",
   "metadata": {},
   "outputs": [],
   "source": []
  }
 ],
 "metadata": {
  "kernelspec": {
   "display_name": "Python 3 (ipykernel)",
   "language": "python",
   "name": "python3"
  },
  "language_info": {
   "codemirror_mode": {
    "name": "ipython",
    "version": 3
   },
   "file_extension": ".py",
   "mimetype": "text/x-python",
   "name": "python",
   "nbconvert_exporter": "python",
   "pygments_lexer": "ipython3",
   "version": "3.10.9"
  }
 },
 "nbformat": 4,
 "nbformat_minor": 5
}
