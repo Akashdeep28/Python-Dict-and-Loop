{
 "cells": [
  {
   "cell_type": "markdown",
   "id": "cff90df1",
   "metadata": {},
   "source": [
    "### Exercise 1: Mailing Address\n",
    "Create a program that displays your name and complete mailing address formatted in the \n",
    "manner that you would usually see it on the outside of an envelope. Your program does not \n",
    "need to read any input from the user"
   ]
  },
  {
   "cell_type": "code",
   "execution_count": 10,
   "id": "d3479acf",
   "metadata": {},
   "outputs": [
    {
     "name": "stdout",
     "output_type": "stream",
     "text": [
      "Name: Akashdeep Shukla\n",
      "Address: House 75, CV Raman Nagar\n",
      " Bangalore, Karnataka -  560001\n",
      " India\n"
     ]
    }
   ],
   "source": [
    "def My_details():\n",
    "    name = \"Akashdeep Shukla\"\n",
    "    address = \"House 75, CV Raman Nagar\\n Bangalore, Karnataka -  560001\\n India\"\n",
    "    print(\"Name: {}\\nAddress: {}\".format(name, address))\n",
    "My_details()"
   ]
  },
  {
   "cell_type": "markdown",
   "id": "33a8cc1f",
   "metadata": {},
   "source": [
    "### Exercise 2: Hello\n",
    "Write a program that asks the user to enter his or her name. The program should respond \n",
    "with a message that says hello to the user, using his or her name."
   ]
  },
  {
   "cell_type": "code",
   "execution_count": 13,
   "id": "6c29123c",
   "metadata": {},
   "outputs": [
    {
     "name": "stdout",
     "output_type": "stream",
     "text": [
      "Please enter your name here:Akash\n",
      "Hello and Welcome Akash\n"
     ]
    }
   ],
   "source": [
    "name = input (\"Please enter your name here:\")\n",
    "print (\"Hello and Welcome \"+ name)"
   ]
  },
  {
   "cell_type": "markdown",
   "id": "4b8d9df6",
   "metadata": {},
   "source": [
    "### Exercise 3: Area of a Room\n",
    "Write a program that asks the user to enter the width and length of a room. Once the values \n",
    "have been read, your program should compute and display the area of the room. The length \n",
    "and the width will be entered as floating-point numbers. Include units in your prompt and \n",
    "output message; either feet or meters, depending on which unit you are more comfortable \n",
    "working with."
   ]
  },
  {
   "cell_type": "code",
   "execution_count": 26,
   "id": "e8954437",
   "metadata": {},
   "outputs": [
    {
     "name": "stdout",
     "output_type": "stream",
     "text": [
      "Enter Lenght of the room in metre: 6.7\n",
      "Enter width of the the room in metre: 8.4\n",
      "Area of the room is in metre:  56.28\n"
     ]
    }
   ],
   "source": [
    "len = float(input (\"Enter Lenght of the room in metre: \"))\n",
    "wid = float(input (\"Enter width of the the room in metre: \"))\n",
    "area = float(len*wid)\n",
    "print (\"Area of the room is in metre: \",area)"
   ]
  },
  {
   "cell_type": "markdown",
   "id": "53bbf0db",
   "metadata": {},
   "source": [
    "### Exercise 4: Area of a Field\n",
    "Create a program that reads the length and width of a farmer’s field from the user in feet. \n",
    "Display the area of the field in acres.\n",
    "Hint: There are 43,560 square feet in an acre"
   ]
  },
  {
   "cell_type": "code",
   "execution_count": 27,
   "id": "b86e5370",
   "metadata": {},
   "outputs": [
    {
     "name": "stdout",
     "output_type": "stream",
     "text": [
      "Enter Lenght of the field in feet: 200\n",
      "Enter width of the the field in feet: 400\n",
      "Area of the field in acre:  1.8365472910927456\n"
     ]
    }
   ],
   "source": [
    "len1 = float(input (\"Enter Lenght of the field in feet: \"))\n",
    "wid1 = float(input (\"Enter width of the the field in feet: \"))\n",
    "area1 = float((len1*wid1)/43560)\n",
    "print (\"Area of the field in acre: \",area1)"
   ]
  },
  {
   "cell_type": "markdown",
   "id": "ad734521",
   "metadata": {},
   "source": [
    "### Exercise 5: Bottle Deposits\n",
    "In many jurisdictions a small deposit is added to drink containers to encourage people to \n",
    "recycle them. In one particular jurisdiction, drink containers holding one litre or less have a \n",
    "$0.10 deposit, and drink containers holding more than one litre have a $0.25 deposit. Write \n",
    "a program that reads the number of containers of each size from the user. Your program \n",
    "should continue by computing and displaying the refund that will be received for returning \n",
    "those containers. Format the output so that it includes a dollar sign and always displays \n",
    "exactly two decimal places."
   ]
  },
  {
   "cell_type": "code",
   "execution_count": 31,
   "id": "66e39c26",
   "metadata": {},
   "outputs": [
    {
     "name": "stdout",
     "output_type": "stream",
     "text": [
      "How many 1 litre bottles:\n",
      "340\n",
      "How many more than 1 litre bottles:\n",
      "560\n",
      "Total Refund $ 196.00\n"
     ]
    }
   ],
   "source": [
    "onelit = 0.10 #less than or equal to one litre deposit\n",
    "morlit = 0.25 #more than one litre deposit\n",
    "lit = float(input(\"How many 1 litre bottles:\\n\"))\n",
    "mlit = lit = float(input(\"How many more than 1 litre bottles:\\n\"))\n",
    "refund = float(onelit*lit + morlit*mlit)\n",
    "format_refund = \"{:.2f}\".format(refund)\n",
    "print (\"Total Refund $\",format_refund)\n"
   ]
  },
  {
   "cell_type": "markdown",
   "id": "952d2614",
   "metadata": {},
   "source": [
    "### Exercise 6: Tax and Tip\n",
    "The program that you create for this exercise will begin by reading the cost of a meal \n",
    "ordered at a restaurant from the user. Then your program will compute the tax and tip for \n",
    "the meal. Use your local tax rate when computing the amount of tax owing. Compute the tip \n",
    "as 18 percent of the meal amount (without the tax). The output from your program should \n",
    "include the tax amount, the tip amount, and the grand total for the meal including both the tax and the tip. Format the output so that all of the values are displayed using two decimal \n",
    "places."
   ]
  },
  {
   "cell_type": "code",
   "execution_count": 37,
   "id": "31cf2a66",
   "metadata": {},
   "outputs": [
    {
     "name": "stdout",
     "output_type": "stream",
     "text": [
      "How much did your meal cost:25\n",
      "Your Tip is $ 4.50\n",
      "Your Tax is $ 12.50\n",
      "Your Total meal cost is $ 42.00\n"
     ]
    }
   ],
   "source": [
    "#Tax Amount = 5% GST\n",
    "#Tip Amount = 18%\n",
    "\n",
    "Meal = float(input(\"How much did your meal cost:\"))\n",
    "grand_total = Meal + (Meal * 0.5) + (Meal * 0.18)\n",
    "tip_amount = Meal * 0.18\n",
    "tax_amount = Meal * 0.5\n",
    "print (\"Your Tip is $ %.2f\" % tip_amount)\n",
    "print (\"Your Tax is $ %.2f\" % tax_amount)\n",
    "print (\"Your Total meal cost is $ %.2f\" % grand_total)"
   ]
  },
  {
   "cell_type": "markdown",
   "id": "d626101f",
   "metadata": {},
   "source": [
    "### Exercise 7: Fuel Efficiency\n",
    "In the United States, fuel efficiency for vehicles is normally expressed in miles-per gallon \n",
    "(MPG). In Canada, fuel efficiency is normally expressed in litres-per-hundred kilometres\n",
    "(L/100 km). Use your research skills to determine how to convert from MPG to L/100 km. \n",
    "Then create a program that reads a value from the user in American units and displays the \n",
    "equivalent fuel efficiency in Canadian units"
   ]
  },
  {
   "cell_type": "code",
   "execution_count": 38,
   "id": "7a3b9d07",
   "metadata": {},
   "outputs": [
    {
     "name": "stdout",
     "output_type": "stream",
     "text": [
      "Enter your Miles-per-Gallon number:35\n",
      "Your fuel efficiency in Canadian L/100 km is : 8.07\n"
     ]
    }
   ],
   "source": [
    "# To Convert MPG to L/100 Km we need to divide 282.5 by miles per gallon\n",
    "\n",
    "American_Unit = float(input(\"Enter your Miles-per-Gallon number:\"))\n",
    "litreperhundred = float(282.5/American_Unit)\n",
    "print (\"Your fuel efficiency in Canadian L/100 km is : %.2f\" % litreperhundred)"
   ]
  },
  {
   "cell_type": "markdown",
   "id": "2e9a5c1e",
   "metadata": {},
   "source": [
    "### Exercise 8: Height Units\n",
    "Many people think about their height in feet and inches, even in some countries that \n",
    "primarily use the metric system. Write a program that reads a number of feet from the user, \n",
    "followed by a number of inches. Once these values are read, your program should compute \n",
    "and display the equivalent number of centimetres.\n",
    "Hint: One foot is 12 inches. One inch is 2.54 centimetres."
   ]
  },
  {
   "cell_type": "code",
   "execution_count": 39,
   "id": "5c51b93a",
   "metadata": {},
   "outputs": [
    {
     "name": "stdout",
     "output_type": "stream",
     "text": [
      "Input your height: \n",
      "Feet: 6\n",
      "Inches: 2\n",
      "Your height is : 188 cm.\n"
     ]
    }
   ],
   "source": [
    "print(\"Input your height: \")\n",
    "h_ft = int(input(\"Feet: \"))\n",
    "h_inch = int(input(\"Inches: \"))\n",
    "\n",
    "h_inch += h_ft * 12\n",
    "h_cm = round(h_inch * 2.54, 1)\n",
    "\n",
    "print(\"Your height is : %d cm.\" % h_cm)"
   ]
  },
  {
   "cell_type": "code",
   "execution_count": null,
   "id": "c3458ee7",
   "metadata": {},
   "outputs": [],
   "source": []
  }
 ],
 "metadata": {
  "kernelspec": {
   "display_name": "Python 3 (ipykernel)",
   "language": "python",
   "name": "python3"
  },
  "language_info": {
   "codemirror_mode": {
    "name": "ipython",
    "version": 3
   },
   "file_extension": ".py",
   "mimetype": "text/x-python",
   "name": "python",
   "nbconvert_exporter": "python",
   "pygments_lexer": "ipython3",
   "version": "3.10.9"
  }
 },
 "nbformat": 4,
 "nbformat_minor": 5
}
